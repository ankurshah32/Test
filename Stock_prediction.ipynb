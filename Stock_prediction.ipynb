{
  "nbformat": 4,
  "nbformat_minor": 0,
  "metadata": {
    "colab": {
      "name": "Untitled0.ipynb",
      "provenance": [],
      "include_colab_link": true
    },
    "kernelspec": {
      "name": "python3",
      "display_name": "Python 3"
    }
  },
  "cells": [
    {
      "cell_type": "markdown",
      "metadata": {
        "id": "view-in-github",
        "colab_type": "text"
      },
      "source": [
        "<a href=\"https://colab.research.google.com/github/ankurshah32/Test/blob/master/Stock_prediction.ipynb\" target=\"_parent\"><img src=\"https://colab.research.google.com/assets/colab-badge.svg\" alt=\"Open In Colab\"/></a>"
      ]
    },
    {
      "cell_type": "code",
      "metadata": {
        "id": "WjM8Pa5BlWBL",
        "colab_type": "code",
        "colab": {}
      },
      "source": [
        "#install the dependecies\n",
        "import quandl\n",
        "import numpy as np\n",
        "from sklearn.linear_model import LinearRegression\n",
        "from sklearn.svm import SVR\n",
        "from sklearn.model_selection import train_test_split"
      ],
      "execution_count": 0,
      "outputs": []
    },
    {
      "cell_type": "code",
      "metadata": {
        "id": "vV0Hu4IomQFd",
        "colab_type": "code",
        "colab": {
          "base_uri": "https://localhost:8080/",
          "height": 170
        },
        "outputId": "7547f927-7293-49d6-e943-0b8114dd6caa"
      },
      "source": [
        "df =  quandl.get(\"WIKI/AMZN\")\n",
        "print(df.head())"
      ],
      "execution_count": 25,
      "outputs": [
        {
          "output_type": "stream",
          "text": [
            "             Open   High    Low  ...  Adj. Low  Adj. Close  Adj. Volume\n",
            "Date                             ...                                   \n",
            "1997-05-16  22.38  23.75  20.50  ...  1.708333    1.729167   14700000.0\n",
            "1997-05-19  20.50  21.25  19.50  ...  1.625000    1.708333    6106800.0\n",
            "1997-05-20  20.75  21.00  19.63  ...  1.635833    1.635833    5467200.0\n",
            "1997-05-21  19.25  19.75  16.50  ...  1.375000    1.427500   18853200.0\n",
            "1997-05-22  17.25  17.38  15.75  ...  1.312500    1.395833   11776800.0\n",
            "\n",
            "[5 rows x 12 columns]\n"
          ],
          "name": "stdout"
        }
      ]
    },
    {
      "cell_type": "code",
      "metadata": {
        "id": "GvIxCYq-mz81",
        "colab_type": "code",
        "colab": {
          "base_uri": "https://localhost:8080/",
          "height": 136
        },
        "outputId": "f15db2d6-0c86-4f76-d93a-03196c287c59"
      },
      "source": [
        "df = df[['Adj. Close']]\n",
        "print (df.head())"
      ],
      "execution_count": 26,
      "outputs": [
        {
          "output_type": "stream",
          "text": [
            "            Adj. Close\n",
            "Date                  \n",
            "1997-05-16    1.729167\n",
            "1997-05-19    1.708333\n",
            "1997-05-20    1.635833\n",
            "1997-05-21    1.427500\n",
            "1997-05-22    1.395833\n"
          ],
          "name": "stdout"
        }
      ]
    },
    {
      "cell_type": "code",
      "metadata": {
        "id": "gFYj9qYxnanD",
        "colab_type": "code",
        "colab": {
          "base_uri": "https://localhost:8080/",
          "height": 272
        },
        "outputId": "a553c727-98b6-48b4-a4f5-57fbf364f25c"
      },
      "source": [
        "forecast_out = 30\n",
        "df['Prediction'] = df[['Adj. Close']].shift(-forecast_out)\n",
        "print(df.head)"
      ],
      "execution_count": 27,
      "outputs": [
        {
          "output_type": "stream",
          "text": [
            "<bound method NDFrame.head of              Adj. Close  Prediction\n",
            "Date                               \n",
            "1997-05-16     1.729167    1.541667\n",
            "1997-05-19     1.708333    1.515833\n",
            "1997-05-20     1.635833    1.588333\n",
            "1997-05-21     1.427500    1.911667\n",
            "1997-05-22     1.395833    2.000000\n",
            "...                 ...         ...\n",
            "2018-03-21  1581.860000         NaN\n",
            "2018-03-22  1544.100000         NaN\n",
            "2018-03-23  1495.560000         NaN\n",
            "2018-03-26  1555.860000         NaN\n",
            "2018-03-27  1497.050000         NaN\n",
            "\n",
            "[5248 rows x 2 columns]>\n"
          ],
          "name": "stdout"
        }
      ]
    },
    {
      "cell_type": "code",
      "metadata": {
        "id": "4MKMa5teopJ_",
        "colab_type": "code",
        "colab": {
          "base_uri": "https://localhost:8080/",
          "height": 136
        },
        "outputId": "7edb2789-d6cf-49ef-858f-24257e01c703"
      },
      "source": [
        "#independent data set\n",
        "X = np.array(df.drop(['Prediction'], 1))\n",
        "#remove the last n rows\n",
        "X = X[:-forecast_out]\n",
        "print(X)"
      ],
      "execution_count": 28,
      "outputs": [
        {
          "output_type": "stream",
          "text": [
            "[[   1.72916667]\n",
            " [   1.70833333]\n",
            " [   1.63583333]\n",
            " ...\n",
            " [1350.47      ]\n",
            " [1338.99      ]\n",
            " [1386.23      ]]\n"
          ],
          "name": "stdout"
        }
      ]
    },
    {
      "cell_type": "code",
      "metadata": {
        "id": "nz1oG7ScpWW2",
        "colab_type": "code",
        "colab": {
          "base_uri": "https://localhost:8080/",
          "height": 51
        },
        "outputId": "aed28769-9dc5-4171-cde4-6c226fbd7411"
      },
      "source": [
        "#create a dependent data set(y)\n",
        "y = np.array(df['Prediction'])\n",
        "#Get all of the y values except the last one\n",
        "y= y[:-forecast_out]\n",
        "print(y)"
      ],
      "execution_count": 29,
      "outputs": [
        {
          "output_type": "stream",
          "text": [
            "[1.54166667e+00 1.51583333e+00 1.58833333e+00 ... 1.49556000e+03\n",
            " 1.55586000e+03 1.49705000e+03]\n"
          ],
          "name": "stdout"
        }
      ]
    },
    {
      "cell_type": "code",
      "metadata": {
        "id": "1JtJ0y5gqwRP",
        "colab_type": "code",
        "colab": {}
      },
      "source": [
        "x_train, x_test, y_train, y_test = train_test_split(X,y, test_size=0.2)"
      ],
      "execution_count": 0,
      "outputs": []
    },
    {
      "cell_type": "code",
      "metadata": {
        "id": "HHbMRFEuoYZX",
        "colab_type": "code",
        "colab": {
          "base_uri": "https://localhost:8080/",
          "height": 51
        },
        "outputId": "cc6cee9d-ac07-487a-dde2-c299b6156497"
      },
      "source": [
        "svr_rbf = SVR(kernel='rbf', C=1e3, gamma =0.1)\n",
        "svr_rbf.fit(x_train, y_train)"
      ],
      "execution_count": 31,
      "outputs": [
        {
          "output_type": "execute_result",
          "data": {
            "text/plain": [
              "SVR(C=1000.0, cache_size=200, coef0=0.0, degree=3, epsilon=0.1, gamma=0.1,\n",
              "    kernel='rbf', max_iter=-1, shrinking=True, tol=0.001, verbose=False)"
            ]
          },
          "metadata": {
            "tags": []
          },
          "execution_count": 31
        }
      ]
    },
    {
      "cell_type": "code",
      "metadata": {
        "id": "fqlFkHe6syYB",
        "colab_type": "code",
        "colab": {
          "base_uri": "https://localhost:8080/",
          "height": 34
        },
        "outputId": "1a66ab60-c277-4a40-a7b6-e96a81feb066"
      },
      "source": [
        "# Test model : score return the coefficient of determination R^2 of the prediction\n",
        "svm_confidence = svr_rbf.score(x_test, y_test)\n",
        "print(svm_confidence)"
      ],
      "execution_count": 32,
      "outputs": [
        {
          "output_type": "stream",
          "text": [
            "0.9648680222612577\n"
          ],
          "name": "stdout"
        }
      ]
    },
    {
      "cell_type": "code",
      "metadata": {
        "id": "tKCeIV6QtgR0",
        "colab_type": "code",
        "colab": {
          "base_uri": "https://localhost:8080/",
          "height": 34
        },
        "outputId": "de885a1e-48a0-408b-e9a2-e972764b9f04"
      },
      "source": [
        "lr = LinearRegression()\n",
        "lr.fit(x_train, y_train)\n",
        "lr_confidence = lr.score(x_test, y_test)\n",
        "print(lr_confidence)"
      ],
      "execution_count": 33,
      "outputs": [
        {
          "output_type": "stream",
          "text": [
            "0.9888679085801494\n"
          ],
          "name": "stdout"
        }
      ]
    },
    {
      "cell_type": "code",
      "metadata": {
        "id": "KEUW2FMguNuk",
        "colab_type": "code",
        "colab": {
          "base_uri": "https://localhost:8080/",
          "height": 527
        },
        "outputId": "7d918937-dab6-40d4-a524-f3c37085dc94"
      },
      "source": [
        "x_forecast = np.array(df.drop(['Prediction'], 1))[-forecast_out:]\n",
        "print(x_forecast)"
      ],
      "execution_count": 34,
      "outputs": [
        {
          "output_type": "stream",
          "text": [
            "[[1414.51]\n",
            " [1451.05]\n",
            " [1461.76]\n",
            " [1448.69]\n",
            " [1468.35]\n",
            " [1482.92]\n",
            " [1484.76]\n",
            " [1500.  ]\n",
            " [1521.95]\n",
            " [1511.98]\n",
            " [1512.45]\n",
            " [1493.45]\n",
            " [1500.25]\n",
            " [1523.61]\n",
            " [1537.64]\n",
            " [1545.  ]\n",
            " [1551.86]\n",
            " [1578.89]\n",
            " [1598.39]\n",
            " [1588.18]\n",
            " [1591.  ]\n",
            " [1582.32]\n",
            " [1571.68]\n",
            " [1544.93]\n",
            " [1586.51]\n",
            " [1581.86]\n",
            " [1544.1 ]\n",
            " [1495.56]\n",
            " [1555.86]\n",
            " [1497.05]]\n"
          ],
          "name": "stdout"
        }
      ]
    },
    {
      "cell_type": "code",
      "metadata": {
        "id": "anWyewUwveLf",
        "colab_type": "code",
        "colab": {
          "base_uri": "https://localhost:8080/",
          "height": 221
        },
        "outputId": "09d57d9f-eb1a-4373-e3be-eb30007fbd98"
      },
      "source": [
        "#Print linear regression model prediction for next n days\n",
        "lr_prediction = lr.predict(x_forecast)\n",
        "print(lr_prediction)\n",
        "# Print support vector regressor model prediction for the next 'n' days\n",
        "svm_prediction = svr_rbf.predict(x_forecast)\n",
        "print(svm_prediction)"
      ],
      "execution_count": 35,
      "outputs": [
        {
          "output_type": "stream",
          "text": [
            "[1499.33403258 1538.15228259 1549.53004553 1535.64513782 1556.5309286\n",
            " 1572.00936053 1573.96408357 1590.15428966 1613.47286075 1602.88123643\n",
            " 1603.38054069 1583.19590056 1590.41987703 1615.23636089 1630.1411241\n",
            " 1637.96001627 1645.24773371 1673.96304016 1694.67885503 1683.83226684\n",
            " 1686.82809237 1677.60689888 1666.30350041 1637.88565181 1682.0581432\n",
            " 1677.11821812 1637.00390174 1585.43745796 1649.49713163 1587.02035869]\n",
            "[1015.35814323 1550.48091547  684.64482682 1058.36363682  684.61216266\n",
            "  684.61216265  684.61216265  684.61216265  684.61216265  684.61216265\n",
            "  684.61216265  684.61216265  684.61216265  684.61216265  684.61216265\n",
            "  684.61216265  684.61216265  684.61216265  684.61216265  684.61216265\n",
            "  684.61216265  684.61216265  684.61216265  684.61216265  684.61216265\n",
            "  684.61216265  684.61216265  684.61216265  684.61216265  684.61216265]\n"
          ],
          "name": "stdout"
        }
      ]
    }
  ]
}